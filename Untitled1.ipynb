{
 "cells": [
  {
   "cell_type": "code",
   "execution_count": 2,
   "id": "5ee07f12",
   "metadata": {},
   "outputs": [
    {
     "name": "stdout",
     "output_type": "stream",
     "text": [
      "Collecting pyqrcode\n",
      "  Using cached PyQRCode-1.2.1.zip (41 kB)\n",
      "  Preparing metadata (setup.py): started\n",
      "  Preparing metadata (setup.py): finished with status 'done'\n",
      "Collecting pypng\n",
      "  Downloading pypng-0.20220715.0-py3-none-any.whl (58 kB)\n",
      "     ---------------------------------------- 58.1/58.1 kB 3.0 MB/s eta 0:00:00\n",
      "Building wheels for collected packages: pyqrcode\n",
      "  Building wheel for pyqrcode (setup.py): started\n",
      "  Building wheel for pyqrcode (setup.py): finished with status 'done'\n",
      "  Created wheel for pyqrcode: filename=PyQRCode-1.2.1-py3-none-any.whl size=36240 sha256=40a01b63896ad3a47d5badc7d66cdc3b566d9528be2b8cec041fd964c779d1e6\n",
      "  Stored in directory: c:\\users\\jyotp\\appdata\\local\\pip\\cache\\wheels\\78\\19\\3c\\222640a44eb962b726eca6571852559c4f653813af9118f66e\n",
      "Successfully built pyqrcode\n",
      "Installing collected packages: pyqrcode, pypng\n",
      "Successfully installed pypng-0.20220715.0 pyqrcode-1.2.1\n"
     ]
    }
   ],
   "source": [
    "!pip install pyqrcode pypng"
   ]
  },
  {
   "cell_type": "code",
   "execution_count": 5,
   "id": "ce6c78e5",
   "metadata": {},
   "outputs": [],
   "source": [
    "# Import the necessary module!\n",
    "import pyqrcode\n",
    "\n",
    "# Define the data:\n",
    "# We need some text that we want to convert as our QR Code. \n",
    "# Since I am creating the QR Code for my github profile, \n",
    "# I will \"https://github.com/milaan9\" as data here. Let's store inside a variable.\n",
    "data = \"https://thapar.edu\"\n",
    "\n",
    "# Create qrcode:\n",
    "# Now that we have the data with us, we can move forward and \n",
    "# make use of the package we just imported. Let's create an variable.\n",
    "# We will use the create method (as it results in a cleaner looking code) on data.\n",
    "qr = pyqrcode.create(data)\n",
    "\n",
    "# Save the qrcode in png format with proper scaling:\n",
    "# Now let's store it in .png format with proper scaling.\n",
    "qr.png(\"pl1.png\", scale= 5)"
   ]
  },
  {
   "cell_type": "code",
   "execution_count": null,
   "id": "b6e5cbf6",
   "metadata": {},
   "outputs": [],
   "source": []
  }
 ],
 "metadata": {
  "kernelspec": {
   "display_name": "Python 3 (ipykernel)",
   "language": "python",
   "name": "python3"
  },
  "language_info": {
   "codemirror_mode": {
    "name": "ipython",
    "version": 3
   },
   "file_extension": ".py",
   "mimetype": "text/x-python",
   "name": "python",
   "nbconvert_exporter": "python",
   "pygments_lexer": "ipython3",
   "version": "3.10.9"
  }
 },
 "nbformat": 4,
 "nbformat_minor": 5
}
